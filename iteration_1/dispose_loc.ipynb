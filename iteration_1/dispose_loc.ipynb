{
 "cells": [
  {
   "cell_type": "code",
   "execution_count": 1,
   "metadata": {},
   "outputs": [],
   "source": [
    "import pandas as pd\n",
    "\n",
    "df = pd.read_csv('Waste_Management_Facilities.csv')\n",
    "# print(df.to_string()) "
   ]
  },
  {
   "cell_type": "code",
   "execution_count": 2,
   "metadata": {},
   "outputs": [],
   "source": [
    "df = df.loc[(df.state == \"VIC\")]\n",
    "df = df.loc[(df.facility_infastructure_type == \"E-WASTE DROP-OFF FACILITY\") | (df.facility_infastructure_type == \"E-WASTE RECYCLING FACILITY\")]\n",
    "df = df.filter(items=['X', 'Y', 'facility_management_type', 'facility_infastructure_type', 'facility_name', 'address', 'suburb', 'postcode'])\n",
    "df = df.loc[(df.facility_name != \"OFFICEWORKS\") & (df.facility_name != \"HARVEY NORMAN\") & (df.facility_name != \"THE GOOD GUYS\")]\n",
    "# df"
   ]
  },
  {
   "cell_type": "code",
   "execution_count": 3,
   "metadata": {},
   "outputs": [
    {
     "name": "stdout",
     "output_type": "stream",
     "text": [
      "check_NaN:  0\n",
      "check_duplicate_name:  0\n"
     ]
    }
   ],
   "source": [
    "print('check_NaN: ',df.isnull().sum().sum())\n",
    "\n",
    "duplicateRows = df[df.duplicated(['facility_name'])]\n",
    "print('check_duplicate_name: ',len(duplicateRows))"
   ]
  },
  {
   "cell_type": "code",
   "execution_count": 5,
   "metadata": {},
   "outputs": [],
   "source": [
    "df.to_csv('dispose_location.csv', index=False)"
   ]
  },
  {
   "cell_type": "code",
   "execution_count": 45,
   "metadata": {},
   "outputs": [],
   "source": [
    "# %pip install pandas mysql-connector-python\n",
    "# %pip install pandas mysql-connector-python paramiko\n"
   ]
  },
  {
   "cell_type": "code",
   "execution_count": null,
   "metadata": {},
   "outputs": [],
   "source": [
    "import mysql.connector\n",
    "import paramiko\n",
    "from sshtunnel import SSHTunnelForwarder\n",
    "\n",
    "# SSH连接配置\n",
    "ssh_config = {\n",
    "    \"hostname\": \"54.252.18.185:22\",\n",
    "    \"username\": \"ubuntu\",\n",
    "    \"password\": \"your-aws-password\"\n",
    "}\n",
    "\n",
    "# 建立SSH连接\n",
    "ssh_client = paramiko.SSHClient()\n",
    "ssh_client.set_missing_host_key_policy(paramiko.AutoAddPolicy())\n",
    "ssh_client.connect(**ssh_config)\n",
    "\n",
    "\n",
    "# SSH隧道配置\n",
    "tunnel_config = {\n",
    "    \"ssh_address_tuple\": (ssh_config[\"hostname\"], 22),\n",
    "    \"ssh_username\": ssh_config[\"username\"],\n",
    "    \"ssh_password\": ssh_config[\"password\"],\n",
    "    \"remote_bind_address\": (\"127.0.0.1\", 3306)\n",
    "}\n",
    "\n",
    "# 建立SSH隧道\n",
    "tunnel = SSHTunnelForwarder(**tunnel_config)\n",
    "tunnel.start()\n",
    "\n",
    "\n",
    "# MySQL连接配置\n",
    "db_config = {\n",
    "    \"host\": \"127.0.0.1\",  # 本地端口通过SSH隧道连接到远程MySQL\n",
    "    \"port\": tunnel.local_bind_port,\n",
    "    \"user\": \"your-username\",\n",
    "    \"password\": \"your-password\",\n",
    "    \"database\": \"your-database-name\"\n",
    "}\n",
    "\n",
    "# 连接到MySQL数据库\n",
    "connection = mysql.connector.connect(**db_config)\n",
    "\n",
    "# 将DataFrame写入数据库\n",
    "df.to_sql(name='table_name', con=connection, if_exists='replace', index=False)\n",
    "\n",
    "connection.close()\n",
    "tunnel.stop()\n",
    "ssh_client.close()\n"
   ]
  }
 ],
 "metadata": {
  "kernelspec": {
   "display_name": "Python 3",
   "language": "python",
   "name": "python3"
  },
  "language_info": {
   "codemirror_mode": {
    "name": "ipython",
    "version": 3
   },
   "file_extension": ".py",
   "mimetype": "text/x-python",
   "name": "python",
   "nbconvert_exporter": "python",
   "pygments_lexer": "ipython3",
   "version": "3.10.2"
  },
  "orig_nbformat": 4
 },
 "nbformat": 4,
 "nbformat_minor": 2
}
